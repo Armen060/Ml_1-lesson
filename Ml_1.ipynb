{
 "cells": [
  {
   "cell_type": "markdown",
   "id": "435eac62-6364-4766-9559-f08106651987",
   "metadata": {},
   "source": [
    "# Copy book ex."
   ]
  },
  {
   "cell_type": "code",
   "execution_count": 215,
   "id": "ff335e48-26bb-4426-afe7-56d94ea32a95",
   "metadata": {},
   "outputs": [],
   "source": [
    "import numpy as np"
   ]
  },
  {
   "cell_type": "code",
   "execution_count": 216,
   "id": "bffad6a2-d3a2-42c5-8a16-f2ad501cad52",
   "metadata": {},
   "outputs": [],
   "source": [
    "A = np.array([[1,2,3],\n",
    "              [0, 4, 5],\n",
    "              [1, 1, 7]])"
   ]
  },
  {
   "cell_type": "code",
   "execution_count": 217,
   "id": "2e04ea85-1dda-4d68-959d-3ceb96d59591",
   "metadata": {},
   "outputs": [
    {
     "data": {
      "text/plain": [
       "array([[ 1.0952381 , -0.52380952, -0.0952381 ],\n",
       "       [ 0.23809524,  0.19047619, -0.23809524],\n",
       "       [-0.19047619,  0.04761905,  0.19047619]])"
      ]
     },
     "execution_count": 217,
     "metadata": {},
     "output_type": "execute_result"
    }
   ],
   "source": [
    "np.linalg.inv(A)     #inverse a matrix A"
   ]
  },
  {
   "cell_type": "code",
   "execution_count": 218,
   "id": "0eb34d6b-4c59-42b7-a0cf-4402e84c9ced",
   "metadata": {},
   "outputs": [],
   "source": [
    "A = np.array([[2, 3],\n",
    "             [4, 5]])\n",
    "B = np.array([[1, 0],\n",
    "             [2, 7]])"
   ]
  },
  {
   "cell_type": "code",
   "execution_count": 219,
   "id": "9e3d8e39-3ae2-429b-a736-f908b359d8e6",
   "metadata": {},
   "outputs": [],
   "source": [
    "X = np.linalg.solve(A, B)"
   ]
  },
  {
   "cell_type": "code",
   "execution_count": 220,
   "id": "7197496b-d8b3-454e-a25a-96abe184ab06",
   "metadata": {},
   "outputs": [
    {
     "name": "stdout",
     "output_type": "stream",
     "text": [
      "[[ 0.5 10.5]\n",
      " [ 0.  -7. ]]\n"
     ]
    }
   ],
   "source": [
    "print(X)"
   ]
  },
  {
   "cell_type": "code",
   "execution_count": 221,
   "id": "4ab5279c-9a30-4b33-9b18-c4a8dea4b152",
   "metadata": {},
   "outputs": [],
   "source": [
    "X = np.linalg.solve(B,A)"
   ]
  },
  {
   "cell_type": "code",
   "execution_count": 222,
   "id": "c41e1a20-985f-44ea-a1ac-1d20b7525460",
   "metadata": {},
   "outputs": [
    {
     "name": "stdout",
     "output_type": "stream",
     "text": [
      "[[ 2.          3.        ]\n",
      " [-0.         -0.14285714]]\n"
     ]
    }
   ],
   "source": [
    "print(X)"
   ]
  },
  {
   "cell_type": "code",
   "execution_count": 223,
   "id": "6261384c-d9dd-46be-a1fe-0d48a86f2232",
   "metadata": {},
   "outputs": [],
   "source": [
    "A = np.array([[1, 0, 3],\n",
    "             [2, 1, 5],\n",
    "             [4, 2, 1]])\n",
    "B= np.array([[2, 1, 1],\n",
    "            [1, 2, 3],\n",
    "            [0, 4, 5]])"
   ]
  },
  {
   "cell_type": "code",
   "execution_count": 224,
   "id": "e58e6793-4084-47cd-86b1-a4da88ae53fa",
   "metadata": {},
   "outputs": [],
   "source": [
    "X = np.linalg.solve(A, B)"
   ]
  },
  {
   "cell_type": "code",
   "execution_count": 225,
   "id": "08f6123c-9cbd-4c1e-85b3-a34dae0b6322",
   "metadata": {},
   "outputs": [
    {
     "name": "stdout",
     "output_type": "stream",
     "text": [
      "[[ 1.33333333  1.          0.66666667]\n",
      " [-2.77777778 -0.          1.11111111]\n",
      " [ 0.22222222  0.          0.11111111]]\n"
     ]
    }
   ],
   "source": [
    "print(X)"
   ]
  },
  {
   "cell_type": "code",
   "execution_count": 226,
   "id": "ddaf9264-1a87-47e3-9fb0-413398e6a777",
   "metadata": {},
   "outputs": [],
   "source": [
    "X= np.linalg.solve(B,A)"
   ]
  },
  {
   "cell_type": "code",
   "execution_count": 227,
   "id": "728014dc-5d7e-47b6-87df-13ba2827fb68",
   "metadata": {},
   "outputs": [
    {
     "name": "stdout",
     "output_type": "stream",
     "text": [
      "[[ 0.  -0.2  2. ]\n",
      " [ 1.   0.  -6. ]\n",
      " [ 0.   0.4  5. ]]\n"
     ]
    }
   ],
   "source": [
    "print(X)"
   ]
  },
  {
   "cell_type": "code",
   "execution_count": 228,
   "id": "a2f00b65-3d7f-46a2-a47d-49b06be07aec",
   "metadata": {},
   "outputs": [],
   "source": [
    "A = np.array([[12, 4],\n",
    "             [3, 8]])"
   ]
  },
  {
   "cell_type": "code",
   "execution_count": 229,
   "id": "02c4317b-5f5b-4229-8337-11c838baddd4",
   "metadata": {},
   "outputs": [
    {
     "name": "stdout",
     "output_type": "stream",
     "text": [
      "[[29136 18560]\n",
      " [13920 10576]]\n"
     ]
    }
   ],
   "source": [
    "print(np.linalg.matrix_power(A, 4))  # A Matrix power "
   ]
  },
  {
   "cell_type": "code",
   "execution_count": 230,
   "id": "1afd70be-8967-4cdd-ae12-a191dd56f005",
   "metadata": {},
   "outputs": [],
   "source": [
    "B = np.array([[5, 6, 3], \n",
    "             [-1, 0, 1], \n",
    "             [1, 2, -1]])"
   ]
  },
  {
   "cell_type": "code",
   "execution_count": 231,
   "id": "d6f45aaf-d219-4f70-bcbb-547659536e43",
   "metadata": {},
   "outputs": [
    {
     "name": "stdout",
     "output_type": "stream",
     "text": [
      "[[22 36 18]\n",
      " [-4 -4 -4]\n",
      " [ 2  4  6]]\n"
     ]
    }
   ],
   "source": [
    "print(np.linalg.matrix_power(B, 2)) # B Matrix power"
   ]
  },
  {
   "cell_type": "code",
   "execution_count": 232,
   "id": "e13fe468-4993-4073-a68c-642af8227cba",
   "metadata": {},
   "outputs": [
    {
     "name": "stdout",
     "output_type": "stream",
     "text": [
      "83.99999999999999\n"
     ]
    }
   ],
   "source": [
    "print(np.linalg.det(A))   # Matrix determinant"
   ]
  },
  {
   "cell_type": "code",
   "execution_count": 246,
   "id": "614347b4-c86c-43b8-8665-c4f9a7d02548",
   "metadata": {},
   "outputs": [],
   "source": [
    "# W3resource"
   ]
  },
  {
   "cell_type": "code",
   "execution_count": 234,
   "id": "685058ff-4e19-425a-ab74-c505be02b0e4",
   "metadata": {},
   "outputs": [
    {
     "name": "stdout",
     "output_type": "stream",
     "text": [
      "2.0.0\n"
     ]
    }
   ],
   "source": [
    "print(np.__version__)  # print numoy version"
   ]
  },
  {
   "cell_type": "code",
   "execution_count": 235,
   "id": "d8699129-76da-4fad-b4ce-627885e3bb68",
   "metadata": {},
   "outputs": [],
   "source": [
    "Lst = [1, 2, 3, 4]"
   ]
  },
  {
   "cell_type": "code",
   "execution_count": 236,
   "id": "c45c6a4b-e8a3-4889-ba38-b12371fa1b22",
   "metadata": {},
   "outputs": [],
   "source": [
    "A = np.array(Lst)  # list to array"
   ]
  },
  {
   "cell_type": "code",
   "execution_count": 237,
   "id": "d551a186-29cf-41b3-87c3-592d56449898",
   "metadata": {},
   "outputs": [
    {
     "name": "stdout",
     "output_type": "stream",
     "text": [
      "[1 2 3 4]\n"
     ]
    }
   ],
   "source": [
    "print(A)"
   ]
  },
  {
   "cell_type": "code",
   "execution_count": 238,
   "id": "d0bb5ab0-ea81-4126-a189-ed872845fdfc",
   "metadata": {},
   "outputs": [],
   "source": [
    "A = ([[12, 4],\n",
    "      [3, -8]])"
   ]
  },
  {
   "cell_type": "code",
   "execution_count": 239,
   "id": "03492987-abe9-47e4-9729-c48a1aa4779a",
   "metadata": {},
   "outputs": [],
   "source": [
    "eigenvalues, eigenvectors = np.linalg.eig(A)"
   ]
  },
  {
   "cell_type": "code",
   "execution_count": 240,
   "id": "059bc22c-230d-40e6-8de6-41a28f43762a",
   "metadata": {},
   "outputs": [
    {
     "name": "stdout",
     "output_type": "stream",
     "text": [
      "Eigenvalues: [12.58300524 -8.58300524]\n",
      "Eigenvectors as columns:\n",
      " [[ 0.98954457 -0.19076621]\n",
      " [ 0.14422742  0.9816355 ]]\n"
     ]
    }
   ],
   "source": [
    "print('Eigenvalues:', eigenvalues)\n",
    "print('Eigenvectors as columns:\\n', eigenvectors)"
   ]
  },
  {
   "cell_type": "code",
   "execution_count": 241,
   "id": "500ee3ea-80e2-4492-bcf6-d5e664c46124",
   "metadata": {},
   "outputs": [],
   "source": [
    "B = np.array([[5, 6, 3],\n",
    "             [-1, 0, 1],\n",
    "             [1, 2, -1]])"
   ]
  },
  {
   "cell_type": "code",
   "execution_count": 242,
   "id": "f59dff51-31c3-4418-9fcd-425ea4e7b848",
   "metadata": {},
   "outputs": [],
   "source": [
    "eigenvalues, eigenvectors = np.linalg.eig(B)"
   ]
  },
  {
   "cell_type": "raw",
   "id": "aadfe1b2-8e78-40ff-bd92-3d611700b502",
   "metadata": {},
   "source": [
    "print(\"Eigenvalues:\" eigenvalues)\n",
    "print(\"Eigenvectors:\" eigenvectors) "
   ]
  },
  {
   "cell_type": "code",
   "execution_count": 274,
   "id": "f8c2de8e-97d9-4998-97ee-0231d3f8bb23",
   "metadata": {},
   "outputs": [],
   "source": [
    "A = np.arange(2, 11).reshape(3,3)"
   ]
  },
  {
   "cell_type": "code",
   "execution_count": 275,
   "id": "903e2844-cd74-4269-ae21-d1fb41c474e1",
   "metadata": {},
   "outputs": [
    {
     "name": "stdout",
     "output_type": "stream",
     "text": [
      "[[ 2  3  4]\n",
      " [ 5  6  7]\n",
      " [ 8  9 10]]\n"
     ]
    }
   ],
   "source": [
    "print(A)"
   ]
  },
  {
   "cell_type": "code",
   "execution_count": 276,
   "id": "8fdb98cf-9b2c-4872-841d-86667f0a6e33",
   "metadata": {},
   "outputs": [],
   "source": [
    "n1 = np.zeros(10)"
   ]
  },
  {
   "cell_type": "code",
   "execution_count": 277,
   "id": "df874450-b099-4822-924b-a4b076f3554b",
   "metadata": {},
   "outputs": [
    {
     "name": "stdout",
     "output_type": "stream",
     "text": [
      "[0. 0. 0. 0. 0. 0. 0. 0. 0. 0.]\n"
     ]
    }
   ],
   "source": [
    "print(n1)"
   ]
  },
  {
   "cell_type": "code",
   "execution_count": 278,
   "id": "2d49343a-7b27-4f1c-86a2-52085b2be1bc",
   "metadata": {},
   "outputs": [],
   "source": [
    "n1[6] = 11"
   ]
  },
  {
   "cell_type": "code",
   "execution_count": 279,
   "id": "d409115a-ead4-45ba-b6f7-6461a24ee9df",
   "metadata": {},
   "outputs": [
    {
     "name": "stdout",
     "output_type": "stream",
     "text": [
      "[ 0.  0.  0.  0.  0.  0. 11.  0.  0.  0.]\n"
     ]
    }
   ],
   "source": [
    "print(n1)"
   ]
  },
  {
   "cell_type": "raw",
   "id": "9c653132-9ae6-4951-82d3-f9294a2de4d5",
   "metadata": {},
   "source": [
    "z = np.arange(12, 38)"
   ]
  },
  {
   "cell_type": "code",
   "execution_count": 287,
   "id": "d76d30cd-c8de-4458-b899-6877876390e8",
   "metadata": {},
   "outputs": [
    {
     "ename": "NameError",
     "evalue": "name 'z' is not defined",
     "output_type": "error",
     "traceback": [
      "\u001b[1;31m---------------------------------------------------------------------------\u001b[0m",
      "\u001b[1;31mNameError\u001b[0m                                 Traceback (most recent call last)",
      "Cell \u001b[1;32mIn[287], line 1\u001b[0m\n\u001b[1;32m----> 1\u001b[0m \u001b[38;5;28mprint\u001b[39m(\u001b[43mz\u001b[49m)\n",
      "\u001b[1;31mNameError\u001b[0m: name 'z' is not defined"
     ]
    }
   ],
   "source": [
    "print(z)"
   ]
  },
  {
   "cell_type": "code",
   "execution_count": 288,
   "id": "33dd0e10-f1f9-4f4c-934a-6e70d5364f9f",
   "metadata": {},
   "outputs": [
    {
     "ename": "NameError",
     "evalue": "name 'z' is not defined",
     "output_type": "error",
     "traceback": [
      "\u001b[1;31m---------------------------------------------------------------------------\u001b[0m",
      "\u001b[1;31mNameError\u001b[0m                                 Traceback (most recent call last)",
      "Cell \u001b[1;32mIn[288], line 1\u001b[0m\n\u001b[1;32m----> 1\u001b[0m z \u001b[38;5;241m=\u001b[39m \u001b[43mz\u001b[49m[::\u001b[38;5;241m-\u001b[39m\u001b[38;5;241m1\u001b[39m]\n",
      "\u001b[1;31mNameError\u001b[0m: name 'z' is not defined"
     ]
    }
   ],
   "source": [
    "z = z[::-1]"
   ]
  },
  {
   "cell_type": "code",
   "execution_count": 289,
   "id": "2d0ce15a-ffdc-447c-886b-4c8fe77188e8",
   "metadata": {},
   "outputs": [
    {
     "ename": "NameError",
     "evalue": "name 'z' is not defined",
     "output_type": "error",
     "traceback": [
      "\u001b[1;31m---------------------------------------------------------------------------\u001b[0m",
      "\u001b[1;31mNameError\u001b[0m                                 Traceback (most recent call last)",
      "Cell \u001b[1;32mIn[289], line 1\u001b[0m\n\u001b[1;32m----> 1\u001b[0m \u001b[38;5;28mprint\u001b[39m(\u001b[43mz\u001b[49m)\n",
      "\u001b[1;31mNameError\u001b[0m: name 'z' is not defined"
     ]
    }
   ],
   "source": [
    "print(z)"
   ]
  },
  {
   "cell_type": "code",
   "execution_count": null,
   "id": "388ad4b2-ef55-4931-a18e-5cd6c5f95509",
   "metadata": {},
   "outputs": [],
   "source": []
  }
 ],
 "metadata": {
  "kernelspec": {
   "display_name": "Python 3 (ipykernel)",
   "language": "python",
   "name": "python3"
  },
  "language_info": {
   "codemirror_mode": {
    "name": "ipython",
    "version": 3
   },
   "file_extension": ".py",
   "mimetype": "text/x-python",
   "name": "python",
   "nbconvert_exporter": "python",
   "pygments_lexer": "ipython3",
   "version": "3.12.1"
  }
 },
 "nbformat": 4,
 "nbformat_minor": 5
}
